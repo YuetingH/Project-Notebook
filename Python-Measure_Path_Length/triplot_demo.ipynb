{
 "cells": [
  {
   "cell_type": "code",
   "execution_count": 4,
   "source": [
    "import matplotlib.tri as tri\n",
    "import numpy as np"
   ],
   "outputs": [],
   "metadata": {}
  },
  {
   "cell_type": "code",
   "execution_count": 5,
   "source": [
    "def triplot_distance(xy):\n",
    "    \"\"\"\n",
    "    Measure distance between each pair of points by the number of lines between them under triangulation\n",
    "\n",
    "    Input: \n",
    "        xy: data, [n,2]\n",
    "    Return: \n",
    "        distance: triplot distance between each pair of points, [n,n]\n",
    "    \"\"\"\n",
    "    x = xy[:,0]\n",
    "    y = xy[:,1]\n",
    "    n = len(xy)\n",
    "    triang = tri.Triangulation(x, y) # triang.triangles: store connected points index\n",
    "\n",
    "    # Construct adjacency matrix\n",
    "    adjacency = np.zeros(n**2).reshape(n,n).astype(np.int)\n",
    "\n",
    "    for i in range(len(triang.triangles)):\n",
    "        for m in range(3):\n",
    "            for z in range(3):\n",
    "                if m != z:\n",
    "                    adjacency[triang.triangles[i,m],triang.triangles[i,z]] = 1\n",
    "\n",
    "    # Calculate distance\n",
    "    distance = np.zeros(n**2).reshape(n,n)\n",
    "    distance_tag = np.zeros(n**2).reshape(n,n)\n",
    "\n",
    "    power = 1\n",
    "    counter = 0\n",
    "    adjacency_pow = np.eye(n)\n",
    "\n",
    "    while counter < n**2 - n:\n",
    "        adjacency_pow = np.matmul(adjacency, adjacency_pow)\n",
    "        alter = np.logical_and(adjacency_pow != 0, distance_tag == 0)\n",
    "        adjacency_pow[alter] = 1\n",
    "        np.fill_diagonal(alter,False)\n",
    "        distance[alter] = power\n",
    "        distance_tag[alter] = 1\n",
    "        counter += str(alter.tolist()).count(\"True\")\n",
    "        power += 1  \n",
    "    return distance"
   ],
   "outputs": [],
   "metadata": {}
  },
  {
   "cell_type": "code",
   "execution_count": 6,
   "source": [
    "xy = np.asarray([\n",
    "\t[-0.101, 0.872], [-0.080, 0.883], [-0.069, 0.888], [-0.054, 0.890],\n",
    "\t[-0.045, 0.897], [-0.057, 0.895], [-0.073, 0.900], [-0.087, 0.898],\n",
    "\t[-0.090, 0.904], [-0.069, 0.907], [-0.069, 0.921], [-0.080, 0.919],\n",
    "\t[-0.073, 0.928], [-0.052, 0.930], [-0.048, 0.942], [-0.062, 0.949],\n",
    "\t[-0.054, 0.958], [-0.069, 0.954], [-0.087, 0.952], [-0.087, 0.959],\n",
    "\t[-0.080, 0.966], [-0.085, 0.973], [-0.087, 0.965], [-0.097, 0.965],\n",
    "\t[-0.097, 0.975], [-0.092, 0.984], [-0.101, 0.980], [-0.108, 0.980],\n",
    "\t[-0.104, 0.987], [-0.102, 0.993], [-0.115, 1.001], [-0.099, 0.996],\n",
    "\t[-0.101, 1.007], [-0.090, 1.010], [-0.087, 1.021], [-0.069, 1.021],\n",
    "\t[-0.052, 1.022], [-0.052, 1.017], [-0.069, 1.010], [-0.064, 1.005],\n",
    "\t[-0.048, 1.005], [-0.031, 1.005], [-0.031, 0.996], [-0.040, 0.987],\n",
    "\t[-0.045, 0.980], [-0.052, 0.975], [-0.040, 0.973], [-0.026, 0.968],\n",
    "\t[-0.020, 0.954], [-0.006, 0.947], [ 0.003, 0.935], [ 0.006, 0.926],\n",
    "\t[ 0.005, 0.921], [ 0.022, 0.923], [ 0.033, 0.912], [ 0.029, 0.905],\n",
    "\t[ 0.017, 0.900], [ 0.012, 0.895], [ 0.027, 0.893], [ 0.019, 0.886],\n",
    "\t[ 0.001, 0.883], [-0.012, 0.884], [-0.029, 0.883], [-0.038, 0.879],\n",
    "\t[-0.057, 0.881], [-0.062, 0.876], [-0.078, 0.876], [-0.087, 0.872],\n",
    "\t[-0.030, 0.907], [-0.007, 0.905], [-0.057, 0.916], [-0.025, 0.933],\n",
    "\t[-0.077, 0.990], [-0.059, 0.993]])\n",
    "x = np.degrees(xy[:, 0])\n",
    "y = np.degrees(xy[:, 1])"
   ],
   "outputs": [],
   "metadata": {}
  },
  {
   "cell_type": "code",
   "execution_count": 7,
   "source": [
    "print(triplot_distance(xy))"
   ],
   "outputs": [
    {
     "output_type": "stream",
     "name": "stdout",
     "text": [
      "[[0. 1. 2. ... 4. 4. 5.]\n",
      " [1. 0. 1. ... 4. 5. 6.]\n",
      " [2. 1. 0. ... 4. 6. 6.]\n",
      " ...\n",
      " [4. 4. 4. ... 0. 4. 4.]\n",
      " [4. 5. 6. ... 4. 0. 1.]\n",
      " [5. 6. 6. ... 4. 1. 0.]]\n"
     ]
    },
    {
     "output_type": "stream",
     "name": "stderr",
     "text": [
      "<ipython-input-5-e18e7ee0d857>:16: DeprecationWarning: `np.int` is a deprecated alias for the builtin `int`. To silence this warning, use `int` by itself. Doing this will not modify any behavior and is safe. When replacing `np.int`, you may wish to use e.g. `np.int64` or `np.int32` to specify the precision. If you wish to review your current use, check the release note link for additional information.\n",
      "Deprecated in NumPy 1.20; for more details and guidance: https://numpy.org/devdocs/release/1.20.0-notes.html#deprecations\n",
      "  adjacency = np.zeros(n**2).reshape(n,n).astype(np.int)\n"
     ]
    }
   ],
   "metadata": {}
  },
  {
   "cell_type": "code",
   "execution_count": null,
   "source": [],
   "outputs": [],
   "metadata": {}
  }
 ],
 "metadata": {
  "orig_nbformat": 4,
  "language_info": {
   "name": "python",
   "version": "3.8.8",
   "mimetype": "text/x-python",
   "codemirror_mode": {
    "name": "ipython",
    "version": 3
   },
   "pygments_lexer": "ipython3",
   "nbconvert_exporter": "python",
   "file_extension": ".py"
  },
  "kernelspec": {
   "name": "python3",
   "display_name": "Python 3.8.8 64-bit ('base': conda)"
  },
  "interpreter": {
   "hash": "e1c7d63ddb0e20777152c1815041cc710ba44ff9817ad11838d0b2c8acf56152"
  }
 },
 "nbformat": 4,
 "nbformat_minor": 2
}