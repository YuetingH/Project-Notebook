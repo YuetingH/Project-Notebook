{
 "cells": [
  {
   "cell_type": "code",
   "execution_count": 1,
   "source": [
    "import numpy as np\n",
    "import matplotlib.tri as tri"
   ],
   "outputs": [],
   "metadata": {}
  },
  {
   "cell_type": "code",
   "execution_count": 2,
   "source": [
    "def triplot_distance(xy):\n",
    "    \"\"\"\n",
    "    Measure distance between each pair of points by the number of lines between them under triangulation\n",
    "\n",
    "    Input: \n",
    "        xy: data, [n,2]\n",
    "    Return: \n",
    "        distance: triplot distance between each pair of points, [n,n]\n",
    "    \"\"\"\n",
    "    x = xy[:,0]\n",
    "    y = xy[:,1]\n",
    "    n = len(xy)\n",
    "    triang = tri.Triangulation(x, y) # triang.triangles: store connected points index\n",
    "\n",
    "    # Construct adjacency matrix\n",
    "    adjacency = np.zeros(n**2).reshape(n,n).astype(np.int)\n",
    "\n",
    "    for i in range(len(triang.triangles)):\n",
    "        for m in range(3):\n",
    "            for z in range(3):\n",
    "                if m != z:\n",
    "                    adjacency[triang.triangles[i,m],triang.triangles[i,z]] = 1\n",
    "\n",
    "    # Calculate distance\n",
    "    distance = np.zeros(n**2).reshape(n,n)\n",
    "    distance_tag = np.zeros(n**2).reshape(n,n)\n",
    "\n",
    "    power = 1\n",
    "    counter = 0\n",
    "    adjacency_pow = np.eye(n)\n",
    "\n",
    "    while counter < n**2 - n:\n",
    "        adjacency_pow = np.matmul(adjacency, adjacency_pow)\n",
    "        alter = np.logical_and(adjacency_pow != 0, distance_tag == 0)\n",
    "        adjacency_pow[alter] = 1\n",
    "        np.fill_diagonal(alter,False)\n",
    "        distance[alter] = power\n",
    "        distance_tag[alter] = 1\n",
    "        counter += str(alter.tolist()).count(\"True\")\n",
    "        power += 1  \n",
    "    return distance\n"
   ],
   "outputs": [],
   "metadata": {}
  },
  {
   "cell_type": "code",
   "execution_count": null,
   "source": [],
   "outputs": [],
   "metadata": {}
  }
 ],
 "metadata": {
  "kernelspec": {
   "name": "python3",
   "display_name": "Python 3.7.10 64-bit ('pytorch': conda)"
  },
  "language_info": {
   "name": "python",
   "version": "3.7.10",
   "mimetype": "text/x-python",
   "codemirror_mode": {
    "name": "ipython",
    "version": 3
   },
   "pygments_lexer": "ipython3",
   "nbconvert_exporter": "python",
   "file_extension": ".py"
  },
  "orig_nbformat": 4,
  "interpreter": {
   "hash": "fc7928432f5f6c46e471057e23a3d3903b19a8715d855183f2ef49b4184df53b"
  }
 },
 "nbformat": 4,
 "nbformat_minor": 2
}